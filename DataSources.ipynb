{
 "cells": [
  {
   "cell_type": "markdown",
   "id": "15c8c55e",
   "metadata": {},
   "source": [
    "# Compulsary Task 1"
   ]
  },
  {
   "cell_type": "code",
   "execution_count": null,
   "id": "4e71b0b7",
   "metadata": {},
   "outputs": [],
   "source": [
    "import pandas as pd"
   ]
  },
  {
   "cell_type": "code",
   "execution_count": null,
   "id": "cf063ce4",
   "metadata": {},
   "outputs": [],
   "source": [
    "df = pd.read_csv('balance.txt',sep=' ')"
   ]
  },
  {
   "cell_type": "code",
   "execution_count": null,
   "id": "6273d7bb",
   "metadata": {},
   "outputs": [],
   "source": [
    "result = df.head(10)\n",
    "print(result)"
   ]
  },
  {
   "cell_type": "markdown",
   "id": "054a5160",
   "metadata": {},
   "source": [
    "select the Limit and Rating colums of the first five observations"
   ]
  },
  {
   "cell_type": "code",
   "execution_count": null,
   "id": "9feb68ff",
   "metadata": {},
   "outputs": [],
   "source": [
    "df1 = df[[\"Limit\", \"Rating\"]].head()\n",
    "print(df1)"
   ]
  },
  {
   "cell_type": "markdown",
   "id": "e79ee83c",
   "metadata": {},
   "source": [
    "select the first five observations with 4 cards"
   ]
  },
  {
   "cell_type": "code",
   "execution_count": null,
   "id": "b0c75f51",
   "metadata": {},
   "outputs": [],
   "source": [
    "df_4cards = df[df[\"Cards\"] == 4].head(5)\n",
    "print(df_4cards)"
   ]
  },
  {
   "cell_type": "markdown",
   "id": "be672ad0",
   "metadata": {},
   "source": [
    "sort the observations by 'Education'. Show users with the highest education value first"
   ]
  },
  {
   "cell_type": "code",
   "execution_count": null,
   "id": "bbc16a40",
   "metadata": {},
   "outputs": [],
   "source": [
    "sorted_df = df.sort_values('Education', ascending=False)\n",
    "print(sorted_df)"
   ]
  },
  {
   "cell_type": "markdown",
   "id": "01a097e5",
   "metadata": {},
   "source": [
    "selects all of the rows and columns in the dataframe"
   ]
  },
  {
   "cell_type": "code",
   "execution_count": null,
   "id": "eeba748d",
   "metadata": {},
   "outputs": [],
   "source": [
    "df.iloc[:,:]"
   ]
  },
  {
   "cell_type": "markdown",
   "id": "8d96451e",
   "metadata": {},
   "source": [
    "selects rows from index 5 (row 6) to the end and the columns from index 5 (column 6)to the end"
   ]
  },
  {
   "cell_type": "code",
   "execution_count": null,
   "id": "68411017",
   "metadata": {},
   "outputs": [],
   "source": [
    "df.iloc[5:,5:]"
   ]
  },
  {
   "cell_type": "markdown",
   "id": "2ff15a9c",
   "metadata": {},
   "source": [
    "select all rows from first column"
   ]
  },
  {
   "cell_type": "code",
   "execution_count": null,
   "id": "9f0f7aaf",
   "metadata": {},
   "outputs": [],
   "source": [
    "df.iloc[:,0]"
   ]
  },
  {
   "cell_type": "markdown",
   "id": "ba67b977",
   "metadata": {},
   "source": [
    "selects the row from index 9 and all the columns"
   ]
  },
  {
   "cell_type": "code",
   "execution_count": null,
   "id": "a671e1be",
   "metadata": {},
   "outputs": [],
   "source": [
    "df.iloc[9,:]"
   ]
  },
  {
   "cell_type": "markdown",
   "id": "a981a94b",
   "metadata": {},
   "source": [
    "# Compulsary task 2"
   ]
  },
  {
   "cell_type": "markdown",
   "id": "fe189c8d",
   "metadata": {},
   "source": [
    "import Pandas"
   ]
  },
  {
   "cell_type": "code",
   "execution_count": null,
   "id": "e735704f",
   "metadata": {},
   "outputs": [],
   "source": [
    "import pandas as pd"
   ]
  },
  {
   "cell_type": "markdown",
   "id": "8e6a3527",
   "metadata": {},
   "source": [
    "Create a dataframe with balance.txt"
   ]
  },
  {
   "cell_type": "code",
   "execution_count": null,
   "id": "3faf53ae",
   "metadata": {},
   "outputs": [],
   "source": [
    "df = pd.read_csv('balance.txt',sep=' ')"
   ]
  },
  {
   "cell_type": "markdown",
   "id": "bc7a9e0b",
   "metadata": {},
   "source": [
    "calculate the average income based on ethincity"
   ]
  },
  {
   "cell_type": "code",
   "execution_count": null,
   "id": "538bc822",
   "metadata": {},
   "outputs": [],
   "source": [
    "income_ethincity = df.groupby('Ethnicity')['Income'].mean()\n",
    "print(income_ethincity)"
   ]
  },
  {
   "cell_type": "markdown",
   "id": "57e374d5",
   "metadata": {},
   "source": [
    "On average do married or single people have a higher balance"
   ]
  },
  {
   "cell_type": "markdown",
   "id": "0c9a90ea",
   "metadata": {},
   "source": [
    "group the data by marital status and calculate the average for each group"
   ]
  },
  {
   "cell_type": "code",
   "execution_count": null,
   "id": "618de7fb",
   "metadata": {},
   "outputs": [],
   "source": [
    "grouped = df.groupby(\"Married\")[\"Balance\"].mean()"
   ]
  },
  {
   "cell_type": "markdown",
   "id": "10f87957",
   "metadata": {},
   "source": [
    "detemine which has a higher average balance"
   ]
  },
  {
   "cell_type": "code",
   "execution_count": null,
   "id": "2642fde0",
   "metadata": {},
   "outputs": [],
   "source": [
    "if grouped[\"Yes\"] > grouped[\"No\"]:\n",
    "    print(\"Married people have a higher average balance.\")\n",
    "    print(\"Average balance: \", grouped[\"Yes\"])\n",
    "else:\n",
    "    print(\"Single people have a higher average balance.\")\n",
    "    print(\"Average balance: \", grouped[\"No\"])"
   ]
  },
  {
   "cell_type": "markdown",
   "id": "fd804bd8",
   "metadata": {},
   "source": [
    "using the max func get the highest income"
   ]
  },
  {
   "cell_type": "code",
   "execution_count": null,
   "id": "faa0ddc8",
   "metadata": {},
   "outputs": [],
   "source": [
    "highest_income = df['Income'].max()\n",
    "print(highest_income)"
   ]
  },
  {
   "cell_type": "markdown",
   "id": "65c19bef",
   "metadata": {},
   "source": [
    "use the min func to get the lowest income"
   ]
  },
  {
   "cell_type": "code",
   "execution_count": null,
   "id": "0b8e910b",
   "metadata": {},
   "outputs": [],
   "source": [
    "lowest_income = df['Income'].min()\n",
    "print(lowest_income)"
   ]
  },
  {
   "cell_type": "markdown",
   "id": "22650ca7",
   "metadata": {},
   "source": [
    "use them sum function to get the total number of cards recorded in the dataset"
   ]
  },
  {
   "cell_type": "code",
   "execution_count": null,
   "id": "0ce23e71",
   "metadata": {},
   "outputs": [],
   "source": [
    "cards_recorded = df[\"Cards\"].sum()\n",
    "print(cards_recorded)"
   ]
  },
  {
   "cell_type": "markdown",
   "id": "d76307be",
   "metadata": {},
   "source": [
    "How many females do we have info for vs males"
   ]
  },
  {
   "cell_type": "code",
   "execution_count": null,
   "id": "12aa3e31",
   "metadata": {},
   "outputs": [],
   "source": [
    "gender_counts = df[\"Gender\"].value_counts()\n",
    "num_females = len(df[df['Gender'] == 'Female'])\n",
    "num_males = len(df[df['Gender'] == 'Male'])\n",
    "difference = num_females - num_males\n",
    "print(gender_counts)\n",
    "print(\"The difference between females and males is: \", difference)"
   ]
  }
 ],
 "metadata": {
  "kernelspec": {
   "display_name": "Python 3 (ipykernel)",
   "language": "python",
   "name": "python3"
  },
  "language_info": {
   "codemirror_mode": {
    "name": "ipython",
    "version": 3
   },
   "file_extension": ".py",
   "mimetype": "text/x-python",
   "name": "python",
   "nbconvert_exporter": "python",
   "pygments_lexer": "ipython3",
   "version": "3.11.2"
  }
 },
 "nbformat": 4,
 "nbformat_minor": 5
}
